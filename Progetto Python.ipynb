{
 "cells": [
  {
   "cell_type": "code",
   "execution_count": 1,
   "id": "67ceae1d",
   "metadata": {},
   "outputs": [],
   "source": [
    "#importo le 3 librerie che saranno utilizzate\n",
    "import os, shutil, csv"
   ]
  },
  {
   "cell_type": "code",
   "execution_count": 2,
   "id": "bf4f32fa",
   "metadata": {},
   "outputs": [],
   "source": [
    "#mi sposto nella cartella files\n",
    "os.chdir('files/')"
   ]
  },
  {
   "cell_type": "code",
   "execution_count": 4,
   "id": "5469be4d",
   "metadata": {},
   "outputs": [],
   "source": [
    "#do un nome all'elenco di tutti i file della cartella\n",
    "files = os.listdir()"
   ]
  },
  {
   "cell_type": "code",
   "execution_count": 5,
   "id": "38f68117",
   "metadata": {},
   "outputs": [
    {
     "name": "stdout",
     "output_type": "stream",
     "text": [
      "bw type: image size: 94926 bytes\n",
      "ciao type: doc size: 12 bytes\n",
      "daffodil type: image size: 24657 bytes\n",
      "eclipse type: image size: 64243 bytes\n",
      "pippo type: doc size: 8299 bytes\n",
      "Formato non riconosciuto.\n",
      "song1 type: audio size: 1087849 bytes\n",
      "song2 type: audio size: 764176 bytes\n",
      "trump type: image size: 10195 bytes\n"
     ]
    }
   ],
   "source": [
    "#creo un file csv con prima riga le informazioni dei file\n",
    "with open('recap.csv', 'a', newline='') as file:\n",
    "    writer = csv.writer(file)\n",
    "    #crea l'header solo ne caso in cui ancora non c'è\n",
    "    if file.tell() == 0:\n",
    "            writer.writerow(['name', 'type', 'size[B]'])\n",
    "            \n",
    "    #creo un ciclo dove in base a come finisce il nome del file mi crea una sottocartella apposita\n",
    "#lo faccio per tutte e 3 le informazioni    \n",
    "    for file in sorted(files):\n",
    "\n",
    "        if file.endswith(\".mp3\"):\n",
    "            cartella_audio = \"Audio\"\n",
    "            if not os.path.exists(\"Audio\"):\n",
    "                os.mkdir(\"Audio\")\n",
    "\n",
    "#do una intestazione al nome e alla dimensione del file\n",
    "            dimensione = os.path.getsize(file)\n",
    "            nome = (os.path.splitext(file))\n",
    "\n",
    "#stampo le informazioni del file eseguito\n",
    "            print (\"{}\".format(nome[0]), (\"type: audio\"), \"size:\", dimensione, \"bytes\")\n",
    "\n",
    "#tengo traccia dei file creando un documento recap.csv con le stesse informazioni        \n",
    "            writer.writerow([\"{}\".format(nome[0]), 'audio', dimensione])\n",
    "            \n",
    "#ora sposto quel file nella sottocartella apposita\n",
    "            shutil.move(file, cartella_audio)\n",
    "\n",
    "#faccio la stessa cosa fatta con audio anche per docs e image        \n",
    "        elif file.endswith(\".txt\") or file.endswith(\".odt\") :\n",
    "            cartella_docs = \"Docs\"\n",
    "            if not os.path.exists(\"Docs\"):\n",
    "                os.mkdir(\"Docs\")\n",
    "            \n",
    "            dimensione = os.path.getsize(file)\n",
    "            nome = (os.path.splitext(file))\n",
    "            print (\"{}\".format(nome[0]), (\"type: doc\"), \"size:\", dimensione, \"bytes\")\n",
    "        \n",
    "            writer.writerow([\"{}\".format(nome[0]), 'doc', dimensione])\n",
    "        \n",
    "            shutil.move(file, cartella_docs)\n",
    "        \n",
    "        \n",
    "        elif file.endswith(\".png\") or file.endswith(\".jpg\") or file.endswith(\".jpeg\"):\n",
    "            cartella_image = \"Image\"\n",
    "            if not os.path.exists(\"Image\"):\n",
    "                os.mkdir(\"Image\")\n",
    "            \n",
    "            dimensione = os.path.getsize(file)\n",
    "            nome = (os.path.splitext(file))\n",
    "            print (\"{}\".format(nome[0]), (\"type: image\"), \"size:\", dimensione, \"bytes\")\n",
    "        \n",
    "            writer.writerow([\"{}\".format(nome[0]), 'image', dimensione])\n",
    "        \n",
    "            shutil.move(file, cartella_image)\n",
    "            \n",
    "        else:\n",
    "            print('Formato non riconosciuto.') "
   ]
  },
  {
   "cell_type": "code",
   "execution_count": null,
   "id": "67c22ce5",
   "metadata": {},
   "outputs": [],
   "source": [
    "import numpy as np\n",
    "from PIL import Image\n",
    "from tabulate import tabulate"
   ]
  },
  {
   "cell_type": "code",
   "execution_count": null,
   "id": "f1189451",
   "metadata": {},
   "outputs": [],
   "source": [
    "#definisco la directory di lavoro\n",
    "cartella_img = ('files/Image')"
   ]
  },
  {
   "cell_type": "code",
   "execution_count": null,
   "id": "7ad95cd8",
   "metadata": {},
   "outputs": [],
   "source": [
    "#elenco i file della cartella\n",
    "list_img = os.listdir(cartella_img)\n",
    "\n",
    "#creo una tab per aggiungere le informazioni delle immagini\n",
    "tab = []\n"
   ]
  },
  {
   "cell_type": "code",
   "execution_count": null,
   "id": "fa20b704",
   "metadata": {},
   "outputs": [],
   "source": [
    "#iterating over dst_img to get the images as arrays\n",
    "for image in sorted(list_img):\n",
    "   #divido il nome del file dalla sua estensione\n",
    "    [nome, estensione] = os.path.splitext(image)\n",
    "   #creo un array per tutte le immagini\n",
    "    arr = np.array(Image.open(os.path.join(cartella_img, image)))\n",
    "   #calcolo altezza e larghezza per ogni immagine\n",
    "    [h, w] = np.shape(arr)[0:2]\n",
    "   #calcolo la dimensione di ciascun array\n",
    "    dim_arr = arr.ndim\n",
    "   #calcolo la forma di ciascun array\n",
    "    forma_arr = arr.shape\n",
    "    \n",
    "    if dim_arr == 2:\n",
    "   #calcolo la media per l'immagine b&w\n",
    "        media_arr = np.mean(arr)\n",
    "   #aggiungo i valori nella tabella\n",
    "        tab.append([nome, h, w, media_arr, 0, 0, 0, 0])\n",
    "    else:\n",
    "       #calcolo la media per le immagini RGB & ALPHA\n",
    "        media_arr = np.mean(arr, axis=(0,1))\n",
    "       #immagine RGB\n",
    "        if len(media_arr) == 3: \n",
    "            tab.append([nome, h, w, 0, media_arr[0], media_arr[1],\n",
    "            media_arr[2], 0])\n",
    "       #immagine ALPHA     \n",
    "        else: \n",
    "            tab.append([nome, h, w, 0, media_arr[0], media_arr[1], \n",
    "            media_arr[2], media_arr[3]])"
   ]
  },
  {
   "cell_type": "code",
   "execution_count": null,
   "id": "9bcc92ed",
   "metadata": {},
   "outputs": [],
   "source": [
    "#stampo le informazioni delle immagini nell'apposita tabella\n",
    "print(tabulate(tab, headers=[\"Name\", \"height\", \"width\", \"grayscale\", \"R\", \"G\", \"B\", \"ALPHA\"],\n",
    "              floatfmt=\".2f\", #formato decimale\n",
    "              tablefmt=\"fancy_grid\")) #formato tabell"
   ]
  }
 ],
 "metadata": {
  "kernelspec": {
   "display_name": "Python 3 (ipykernel)",
   "language": "python",
   "name": "python3"
  },
  "language_info": {
   "codemirror_mode": {
    "name": "ipython",
    "version": 3
   },
   "file_extension": ".py",
   "mimetype": "text/x-python",
   "name": "python",
   "nbconvert_exporter": "python",
   "pygments_lexer": "ipython3",
   "version": "3.9.7"
  }
 },
 "nbformat": 4,
 "nbformat_minor": 5
}
